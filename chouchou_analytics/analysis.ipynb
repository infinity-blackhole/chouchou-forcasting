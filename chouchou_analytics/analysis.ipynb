{
 "cells": [
  {
   "cell_type": "code",
   "execution_count": null,
   "metadata": {},
   "outputs": [],
   "source": [
    "from pathlib import Path\n",
    "import pandas as pd\n",
    "import pyarrow as pa\n",
    "from pyarrow import csv\n"
   ]
  },
  {
   "cell_type": "markdown",
   "metadata": {},
   "source": [
    "## Load and prepare data"
   ]
  },
  {
   "cell_type": "code",
   "execution_count": null,
   "metadata": {},
   "outputs": [],
   "source": [
    "DATA_PATH = Path(\"..\") / \"data\""
   ]
  },
  {
   "cell_type": "code",
   "execution_count": null,
   "metadata": {},
   "outputs": [],
   "source": [
    "df = csv.read_csv(\n",
    "    DATA_PATH / \"sample.csv\",\n",
    "    convert_options=csv.ConvertOptions(\n",
    "        column_types={\n",
    "            \"gare\": pa.string(),\n",
    "            \"trip_short\": pa.string(),\n",
    "            \"trip_headsign\": pa.string(),\n",
    "            \"destination\": pa.string(),\n",
    "            \"date.mode\": pa.string(),\n",
    "            \"direction\": pa.float64(),\n",
    "            \"etat\": pa.string(),\n",
    "            \"heure_arrive\": pa.string(),\n",
    "        }\n",
    "    ),\n",
    ")\n",
    "df = df.to_pandas()\n",
    "df = df[\n",
    "    [\n",
    "        \"gare\",\n",
    "        \"destination\",\n",
    "        \"trip_short\",\n",
    "        \"heure_arrive\",\n",
    "        \"direction\",\n",
    "    ]\n",
    "]\n",
    "df = df.assign(heure_arrive=lambda df: pd.to_datetime(df.heure_arrive))\n",
    "df"
   ]
  },
  {
   "cell_type": "markdown",
   "metadata": {},
   "source": [
    "## Normalization"
   ]
  },
  {
   "cell_type": "code",
   "execution_count": null,
   "metadata": {},
   "outputs": [],
   "source": [
    "df = df[~df[\"heure_arrive\"].isna()]\n",
    "df = df.sort_values(by=['heure_arrive'], ascending=True)\n",
    "df"
   ]
  },
  {
   "cell_type": "markdown",
   "metadata": {},
   "source": [
    "## Lag Window"
   ]
  },
  {
   "cell_type": "code",
   "execution_count": null,
   "metadata": {},
   "outputs": [],
   "source": [
    "df = pd.concat([df, df.groupby([\"trip_short\"]).shift(-1).add_prefix(\"next_\")], axis=1)\n",
    "df\n"
   ]
  },
  {
   "cell_type": "code",
   "execution_count": null,
   "metadata": {},
   "outputs": [],
   "source": [
    "df[df[\"trip_short\"] == \"KLEE84\"]"
   ]
  },
  {
   "cell_type": "code",
   "execution_count": null,
   "metadata": {},
   "outputs": [],
   "source": [
    "df = df.assign(duree=lambda df: df[\"next_heure_arrive\"] - df[\"heure_arrive\"])\n",
    "df"
   ]
  },
  {
   "cell_type": "markdown",
   "metadata": {},
   "source": [
    "## Statistic Window Model"
   ]
  },
  {
   "cell_type": "code",
   "execution_count": null,
   "metadata": {},
   "outputs": [],
   "source": [
    "sample_df = df[(df[\"gare\"] == \"87271460\") & (df[\"destination\"] == \"87758847\")]\n",
    "sample_df = sample_df.assign(duree=lambda df: df[\"duree\"] / pd.Timedelta(1, unit=\"s\"))\n",
    "sample_df[\"duree\"].plot.kde()"
   ]
  },
  {
   "cell_type": "code",
   "execution_count": null,
   "metadata": {},
   "outputs": [],
   "source": [
    "model_df = df.assign(duree=lambda df: df[\"duree\"] / pd.Timedelta(1, unit=\"s\"))\n",
    "model_df = model_df.groupby([\"gare\", \"next_gare\", \"direction\"]).std().reset_index()\n",
    "model_df"
   ]
  },
  {
   "cell_type": "code",
   "execution_count": null,
   "metadata": {},
   "outputs": [],
   "source": [
    "model_df[\n",
    "    (\n",
    "        (model_df[\"gare\"] == \"87271411\")\n",
    "        & (model_df[\"next_gare\"] == \"87271452\")\n",
    "        & (model_df[\"direction\"] == 1)\n",
    "    )\n",
    "    | (\n",
    "        (model_df[\"gare\"] == \"87271452\")\n",
    "        & (model_df[\"next_gare\"] == \"87271452\")\n",
    "        & (model_df[\"direction\"] == 1)\n",
    "    )\n",
    "]\n"
   ]
  },
  {
   "cell_type": "code",
   "execution_count": null,
   "metadata": {},
   "outputs": [],
   "source": []
  }
 ],
 "metadata": {
  "interpreter": {
   "hash": "2a545a3ebd5bbaf4cf06570d1b3f17de6bbb48c79a3a1ec9a7c27dddcedb4b28"
  },
  "kernelspec": {
   "display_name": "Python 3.9.12 ('python-3.9.12': venv)",
   "language": "python",
   "name": "python3"
  },
  "language_info": {
   "codemirror_mode": {
    "name": "ipython",
    "version": 3
   },
   "file_extension": ".py",
   "mimetype": "text/x-python",
   "name": "python",
   "nbconvert_exporter": "python",
   "pygments_lexer": "ipython3",
   "version": "3.9.12"
  },
  "orig_nbformat": 4
 },
 "nbformat": 4,
 "nbformat_minor": 2
}
